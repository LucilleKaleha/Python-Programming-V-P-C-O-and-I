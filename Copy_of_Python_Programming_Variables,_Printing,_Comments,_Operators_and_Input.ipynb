{
  "nbformat": 4,
  "nbformat_minor": 0,
  "metadata": {
    "colab": {
      "name": "Copy of Python Programming: Variables, Printing, Comments, Operators and Input",
      "version": "0.3.2",
      "provenance": [],
      "collapsed_sections": [],
      "toc_visible": true,
      "include_colab_link": true
    },
    "kernelspec": {
      "name": "python3",
      "display_name": "Python 3"
    },
    "accelerator": "GPU"
  },
  "cells": [
    {
      "cell_type": "markdown",
      "metadata": {
        "id": "view-in-github",
        "colab_type": "text"
      },
      "source": [
        "<a href=\"https://colab.research.google.com/github/LucilleKaleha/Python-Programming-V-P-C-O-and-I/blob/master/Copy_of_Python_Programming_Variables%2C_Printing%2C_Comments%2C_Operators_and_Input.ipynb\" target=\"_parent\"><img src=\"https://colab.research.google.com/assets/colab-badge.svg\" alt=\"Open In Colab\"/></a>"
      ]
    },
    {
      "cell_type": "markdown",
      "metadata": {
        "id": "yP8LWf2IYcPt",
        "colab_type": "text"
      },
      "source": [
        "# Variables, Printing, Comments, Operators and Input"
      ]
    },
    {
      "cell_type": "markdown",
      "metadata": {
        "id": "ZJUYY3Kvm4jW",
        "colab_type": "text"
      },
      "source": [
        "<font color=\"green\">*To start working on this notebook, or any other notebook that we will use in this course, we will need to save our own copy of it. We can do this by clicking File > Save a Copy in Drive. We will then be able to make edits to our own copy of this notebook.*</font>\n",
        "\n",
        "---\n",
        "\n"
      ]
    },
    {
      "cell_type": "markdown",
      "metadata": {
        "id": "ouu4WxP3MIgj",
        "colab_type": "text"
      },
      "source": [
        "## 1.0 Introduction"
      ]
    },
    {
      "cell_type": "markdown",
      "metadata": {
        "id": "FpRH6APAK3vV",
        "colab_type": "text"
      },
      "source": [
        "Python is a programming language that is popularly used for data science. In this section we will get to learn the basics of the python programming language. More specifically, we will get to learn about printing, comments, variables operators and Input.\n",
        "\n",
        "---\n",
        "\n",
        "\n",
        "\n",
        "\n",
        "\n"
      ]
    },
    {
      "cell_type": "markdown",
      "metadata": {
        "id": "7LQwxB9bVRP1",
        "colab_type": "text"
      },
      "source": [
        "Let's now swiftly begin to write code. Code is a set of instructions that a programmer writes so as to perform a particular task. Code can be written to perform calculations, move a robotic arm, perform analysis etc. During the course of the Moringa Data Science program, we will write alot of code and and this will help you become more confortable at solving a diverse of data science problems. \n",
        "\n",
        "We will also be using Colaboratory, which is an environment that we can use to run our code. This will eliminate the need to spend alot of time installing and configuring your environment and help you spend more time on learning how to write effective code.\n",
        "\n",
        "The page that we are currently using is called a notebook, while the different sections of this notebook are called cells. The cells can be either code or text. In order to start using a ready created notebook just like this one, we will have to first save a copy of this note book on drive i.e. visit File > Save a copy in Drive. This will allow us to have our own copy of the notebook and update any changes we want for example adding code. \n",
        "\n",
        "In order to run our code as shown in the example below, we can drag our mouse to the left of the cell and click on the circular icon with a triangle pointing to the right. Alternatively, we can click inside the cell which we want to run, then press shift+return buttons on our keyboard, all at the same time.\n",
        "\n"
      ]
    },
    {
      "cell_type": "code",
      "metadata": {
        "id": "STRIQLywyUzJ",
        "colab_type": "code",
        "outputId": "e3203236-0ee3-47d9-a0bf-6cdf728ea1e8",
        "colab": {
          "base_uri": "https://localhost:8080/",
          "height": 34
        }
      },
      "source": [
        "# Example 1\n",
        "# \n",
        "print(\"I just ran my first python code\")"
      ],
      "execution_count": 0,
      "outputs": [
        {
          "output_type": "stream",
          "text": [
            "I just ran my first python code\n"
          ],
          "name": "stdout"
        }
      ]
    },
    {
      "cell_type": "code",
      "metadata": {
        "id": "p1lZg6vG9hHw",
        "colab_type": "code",
        "outputId": "59b49316-4255-45ff-a08f-b8dab2520a5c",
        "colab": {
          "base_uri": "https://localhost:8080/",
          "height": 34
        }
      },
      "source": [
        "# Trial 1\n",
        "print (\"My first python code\")"
      ],
      "execution_count": 0,
      "outputs": [
        {
          "output_type": "stream",
          "text": [
            "My first python code\n"
          ],
          "name": "stdout"
        }
      ]
    },
    {
      "cell_type": "markdown",
      "metadata": {
        "id": "DQXZu9wpDN5E",
        "colab_type": "text"
      },
      "source": [
        "Don't worry, the first run of the code will take a few seconds to run. Thereafter, the running of our code will be much more faster. As we have also seen, our code is displayed at the bottom of the cell. This section of the cell is called the console and its where the output of our code will always be displayed."
      ]
    },
    {
      "cell_type": "markdown",
      "metadata": {
        "id": "Q9nYivGzNDz8",
        "colab_type": "text"
      },
      "source": [
        "## 1.1 Printing\n"
      ]
    },
    {
      "cell_type": "markdown",
      "metadata": {
        "id": "K2Y5xqKgKwWF",
        "colab_type": "text"
      },
      "source": [
        "The second thing that you must have noted in that line of code that we've just ran, is the keyword \"print\". This keyword is meant to print out any text that goes into the following parenthesis. By printing out, we mean outputing our code in the console.  As we continue learning python, we will also come across other keywords that are used to perform different tasks. Such keywords which have two brackets as print() are called functions. In the above example, we used the function print(). We shouldn't now worry about what these functions are as we will learn about them later in the course."
      ]
    },
    {
      "cell_type": "markdown",
      "metadata": {
        "id": "ewLHJRjljHm2",
        "colab_type": "text"
      },
      "source": [
        "### <font color = 'green'> 1.1 Challenges</font>"
      ]
    },
    {
      "cell_type": "code",
      "metadata": {
        "id": "A9EAzlEUjKDf",
        "colab_type": "code",
        "outputId": "f37a354c-591b-4fdd-bdb0-dec8112f494c",
        "colab": {
          "base_uri": "https://localhost:8080/",
          "height": 34
        }
      },
      "source": [
        "# Challenge 1:\n",
        "# Let's now print out your name in the console of this cell.\n",
        "# Replace the text \"OUR CODE GOES HERE\" with the code that you will write \n",
        "# and do likewise to the following examples.\n",
        "#\n",
        "\n",
        "print (\"Lucille Kaleha\")"
      ],
      "execution_count": 0,
      "outputs": [
        {
          "output_type": "stream",
          "text": [
            "Lucille Kaleha\n"
          ],
          "name": "stdout"
        }
      ]
    },
    {
      "cell_type": "code",
      "metadata": {
        "id": "Ffeem6qVjKar",
        "colab_type": "code",
        "outputId": "316e1bcb-6201-4355-9931-92bb37a08c64",
        "colab": {
          "base_uri": "https://localhost:8080/",
          "height": 34
        }
      },
      "source": [
        "# Challenge 2:\n",
        "# Let's print \"I am a Moringa Data Science Student\" below\n",
        "#\n",
        "\n",
        "print (\"I am a Moringa Data Science Student\")"
      ],
      "execution_count": 0,
      "outputs": [
        {
          "output_type": "stream",
          "text": [
            "I am a Moringa Data Science Student\n"
          ],
          "name": "stdout"
        }
      ]
    },
    {
      "cell_type": "code",
      "metadata": {
        "id": "B3681apHjKRN",
        "colab_type": "code",
        "outputId": "fe9937a8-dcbd-4f4b-b35e-790c9ae927e3",
        "colab": {
          "base_uri": "https://localhost:8080/",
          "height": 50
        }
      },
      "source": [
        "# Challenge 3:\n",
        "# Print out the sum of 44 and 22 below\n",
        "# NB: We need to see 44 + 22 in our code \n",
        "# \n",
        "\n",
        "a = 44\n",
        "b = 22\n",
        "sum = a + b\n",
        "print (sum)\n",
        "print(44+22)"
      ],
      "execution_count": 0,
      "outputs": [
        {
          "output_type": "stream",
          "text": [
            "66\n",
            "66\n"
          ],
          "name": "stdout"
        }
      ]
    },
    {
      "cell_type": "markdown",
      "metadata": {
        "id": "ZCa4gqEhMQeX",
        "colab_type": "text"
      },
      "source": [
        "## 1.2 Comments "
      ]
    },
    {
      "cell_type": "markdown",
      "metadata": {
        "id": "gnuZm4DJf46i",
        "colab_type": "text"
      },
      "source": [
        "In this section, we will learn about another key concept of programming - Comments. \n",
        "\n",
        "Programmers and Data Scientists use comments to explain what their code means. These comments are acually pieces of code that do not get translated by the computer. We will use them as helpful messages that we leave within our code. \n",
        "\n",
        "Comments are created by putthing a hash character(#) before the line we would like the computer to ignore. By doing that we would say that we have commented out that line. \n",
        "\n",
        "For example, in the cell below, the first line is the commented out line in the code. It explains what the following code means. "
      ]
    },
    {
      "cell_type": "code",
      "metadata": {
        "id": "xJBU9EQoYcPt",
        "colab_type": "code",
        "colab": {}
      },
      "source": [
        "# Example 1\n",
        "# The code below will print out the statement \"I already love Python\". \n",
        "# Let's press the shortcut shift + return (enter button) at the same time\n",
        "# to run the code in this cell. \n",
        "# \n",
        "print 'I already love Python'"
      ],
      "execution_count": 0,
      "outputs": []
    },
    {
      "cell_type": "markdown",
      "metadata": {
        "id": "cXhURK-yvBfu",
        "colab_type": "text"
      },
      "source": [
        "Good! Let's now comment out the code in the following cell and later run the code. By uncommenting we mean removing the last line # character before print."
      ]
    },
    {
      "cell_type": "code",
      "metadata": {
        "id": "ZQj19k6kvLpy",
        "colab_type": "code",
        "outputId": "1cf6567a-39c3-4900-d678-3cd1a3732244",
        "colab": {
          "base_uri": "https://localhost:8080/",
          "height": 34
        }
      },
      "source": [
        "# Example 2\n",
        "# The code below will print out the statement \"My home is Kenya, all wild and wonderful\"\n",
        "print(\"My home is Kenya, all wild and wonderful!\")\n"
      ],
      "execution_count": 0,
      "outputs": [
        {
          "output_type": "stream",
          "text": [
            "My home is Kenya, all wild and wonderful!\n"
          ],
          "name": "stdout"
        }
      ]
    },
    {
      "cell_type": "markdown",
      "metadata": {
        "id": "ai0VXezYyCVl",
        "colab_type": "text"
      },
      "source": [
        "If we'd like to make multiline comments, we can also use the # character as shown below:"
      ]
    },
    {
      "cell_type": "code",
      "metadata": {
        "id": "9Ap2sfRVyA8s",
        "colab_type": "code",
        "colab": {}
      },
      "source": [
        "# Example 3\n",
        "# The following line of code prints out \n",
        "# \"I have just began my Data science journey\" in the console\n",
        "# \n",
        "print(\"I have just began my data science journey\")"
      ],
      "execution_count": 0,
      "outputs": []
    },
    {
      "cell_type": "markdown",
      "metadata": {
        "id": "9g9cO9kTj7eS",
        "colab_type": "text"
      },
      "source": [
        "### <font color = 'green'> 1.2 Challenges</font> "
      ]
    },
    {
      "cell_type": "code",
      "metadata": {
        "id": "X6FOU-U5j1_0",
        "colab_type": "code",
        "outputId": "a6781758-8874-4e40-e2f7-e32e0bf8e753",
        "colab": {
          "base_uri": "https://localhost:8080/",
          "height": 34
        }
      },
      "source": [
        "# Challenge 1:\n",
        "# We now add multiline comments that explain what happens to a line \n",
        "# that prints out the name of your home town below \n",
        "# \n",
        "\n",
        "# Challenge 1 accepted:\n",
        "# The following line of code prints out\n",
        "# \"My home town is Kitale\"\n",
        "#\n",
        "print(\"My home town is Kitale\")"
      ],
      "execution_count": 0,
      "outputs": [
        {
          "output_type": "stream",
          "text": [
            "My home town is Kitale\n"
          ],
          "name": "stdout"
        }
      ]
    },
    {
      "cell_type": "code",
      "metadata": {
        "id": "TUlfErrLj31q",
        "colab_type": "code",
        "outputId": "a39a2390-33b9-42f9-b7fb-e7aa5b56e2b2",
        "colab": {
          "base_uri": "https://localhost:8080/",
          "height": 34
        }
      },
      "source": [
        "# Challenge 2:\n",
        "# Add comments to the program below. Add comments in two lines. \n",
        "# \n",
        "# Challenge 2 accepted:\n",
        "# a is a variable for \"Hello Brenda\"\n",
        "# the following line of code calls variable a\n",
        "a = \"Hello Brenda!\"\n",
        "print(a)"
      ],
      "execution_count": 0,
      "outputs": [
        {
          "output_type": "stream",
          "text": [
            "Hello Brenda!\n"
          ],
          "name": "stdout"
        }
      ]
    },
    {
      "cell_type": "code",
      "metadata": {
        "id": "RsAK7Vfmj6Pi",
        "colab_type": "code",
        "outputId": "fbf773fa-f1e3-43dd-ae00-fa992f3f5c3d",
        "colab": {
          "base_uri": "https://localhost:8080/",
          "height": 218
        }
      },
      "source": [
        "# Challenge 3:\n",
        "# Run the code below then try to figure out what happens.\n",
        "# Then from your understanding, provide a documentation to the program\n",
        "# NB: By documentation we mean add comments to the program \n",
        "# to help the reader to understand the program.\n",
        "# Hint: Explain each line of the program.\n",
        "#\n",
        "\n",
        "#the following line of code outlines the months \n",
        "months = ['January', 'February', 'March', 'April', 'May', 'June', 'July','August','September','October', 'November','December']\n",
        "\n",
        "#Defining the function show calendar\n",
        "def showCalender(months):\n",
        "  \n",
        "\n",
        "  for month in months:\n",
        "        print(month)\n",
        "        \n",
        "        \n",
        "showCalender(months)"
      ],
      "execution_count": 0,
      "outputs": [
        {
          "output_type": "stream",
          "text": [
            "January\n",
            "February\n",
            "March\n",
            "April\n",
            "May\n",
            "June\n",
            "July\n",
            "August\n",
            "September\n",
            "October\n",
            "November\n",
            "December\n"
          ],
          "name": "stdout"
        }
      ]
    },
    {
      "cell_type": "markdown",
      "metadata": {
        "id": "enegx82E43R0",
        "colab_type": "text"
      },
      "source": [
        "## 1.3 Variables"
      ]
    },
    {
      "cell_type": "markdown",
      "metadata": {
        "id": "BkeWKmaiVZrw",
        "colab_type": "text"
      },
      "source": [
        "The next thing we will learn is a variable. This is simply a container that we can use to store a value. This value can be a number, a character, a string (which is just a set of characters), a list (we will learn this, a dictionary - we will also learn this), etc. "
      ]
    },
    {
      "cell_type": "markdown",
      "metadata": {
        "id": "MNf-A-Vu_aPR",
        "colab_type": "text"
      },
      "source": [
        "In python, we would create a variable and store a value at the same time, just as shown in the following example."
      ]
    },
    {
      "cell_type": "code",
      "metadata": {
        "id": "dnmsWMx8_SUA",
        "colab_type": "code",
        "colab": {}
      },
      "source": [
        "# Example 1\n",
        "# We store the value 10 in a variable p. In programming we say that \"we are assigning the value 10 to p\"\n",
        "# Running this cell won't output anything. Why? You can discuss this with your peer. \n",
        "# If you haven't figure it out, then go on to the next example and you'll know why\n",
        "#\n",
        "p = 10"
      ],
      "execution_count": 0,
      "outputs": []
    },
    {
      "cell_type": "code",
      "metadata": {
        "id": "4jZQErLZVd_y",
        "colab_type": "code",
        "colab": {
          "base_uri": "https://localhost:8080/",
          "height": 34
        },
        "outputId": "ee8c1515-32cf-41fe-fdfa-b294d2b10b14"
      },
      "source": [
        "# Example 2\n",
        "# So as to create a variable we use the equals sign; =, like in the example below. \n",
        "# This sign is usually regarded to what is called an assignment operator.\n",
        "# How do we say what is happening to 5 and x below? We've learned this in\n",
        "# the previous example.\n",
        "# \n",
        "x = 5\n",
        "\n",
        "# Because we have assigned the value 5 to x, \n",
        "# we now need to print out and see whether x has that value. \n",
        "# Lets print out x below this line using the print() function below\n",
        "#\n",
        "print(x)"
      ],
      "execution_count": 1,
      "outputs": [
        {
          "output_type": "stream",
          "text": [
            "5\n"
          ],
          "name": "stdout"
        }
      ]
    },
    {
      "cell_type": "code",
      "metadata": {
        "id": "zitN-ocgVqsF",
        "colab_type": "code",
        "colab": {
          "base_uri": "https://localhost:8080/",
          "height": 34
        },
        "outputId": "56343528-5f26-48ea-cb06-bb07d3cd8ab8"
      },
      "source": [
        "# Example 3\n",
        "# Nice, Work now on this challenge: \n",
        "# Create a savings variable with the value 1000 \n",
        "#\n",
        "# We are assigning the value 1000 to K\n",
        "K = 1000\n",
        "\n",
        "# Then print this savings variable below this line;\n",
        "print(K)\n"
      ],
      "execution_count": 2,
      "outputs": [
        {
          "output_type": "stream",
          "text": [
            "1000\n"
          ],
          "name": "stdout"
        }
      ]
    },
    {
      "cell_type": "code",
      "metadata": {
        "id": "Mjj8BXlNYcPx",
        "colab_type": "code",
        "colab": {
          "base_uri": "https://localhost:8080/",
          "height": 50
        },
        "outputId": "49fbc9e4-7ab4-4387-db44-538918e82024"
      },
      "source": [
        "# Example 4\n",
        "# Now uncomment the below lines to print a, \n",
        "# then later uncomment b = 5 and later uncomment print(b)\n",
        "# Do note what happens\n",
        "#\n",
        "\n",
        "a = 10\n",
        "\n",
        "print(a)\n",
        "\n",
        "b = 5\n",
        "\n",
        "print(b)"
      ],
      "execution_count": 4,
      "outputs": [
        {
          "output_type": "stream",
          "text": [
            "10\n",
            "5\n"
          ],
          "name": "stdout"
        }
      ]
    },
    {
      "cell_type": "markdown",
      "metadata": {
        "id": "O8SLfCskkHv4",
        "colab_type": "text"
      },
      "source": [
        "### <font color = 'green'>  1.3 Challenges </font>"
      ]
    },
    {
      "cell_type": "code",
      "metadata": {
        "id": "313rKbkAkKcR",
        "colab_type": "code",
        "colab": {
          "base_uri": "https://localhost:8080/",
          "height": 34
        },
        "outputId": "ddfb0136-6bf8-4668-a16b-8d5dbf94c185"
      },
      "source": [
        "# Challenge 1\n",
        "# Assign the book Harry Potter and the Deathly Hollows to the variable author\n",
        "#\n",
        "book = ('Harry Potter and the Deathly Hollows')\n",
        "author = book\n",
        "print(author)"
      ],
      "execution_count": 11,
      "outputs": [
        {
          "output_type": "stream",
          "text": [
            "Harry Potter and the Deathly Hollows\n"
          ],
          "name": "stdout"
        }
      ]
    },
    {
      "cell_type": "code",
      "metadata": {
        "id": "3PN6Ef_gkK39",
        "colab_type": "code",
        "colab": {
          "base_uri": "https://localhost:8080/",
          "height": 34
        },
        "outputId": "5f7dbde5-4ec4-4729-cd89-1706f89b28f0"
      },
      "source": [
        "# Challenge 2\n",
        "# Fix the following code the run the cell\n",
        "#\n",
        "Einstein = \"7_quote\"\n",
        "print(Einstein)"
      ],
      "execution_count": 16,
      "outputs": [
        {
          "output_type": "stream",
          "text": [
            "7_quote\n"
          ],
          "name": "stdout"
        }
      ]
    },
    {
      "cell_type": "code",
      "metadata": {
        "id": "IUdjEiyAkKpE",
        "colab_type": "code",
        "colab": {
          "base_uri": "https://localhost:8080/",
          "height": 34
        },
        "outputId": "a1ef36db-b249-4847-cccd-174d5a3bf460"
      },
      "source": [
        "# Challenge 3\n",
        "# Fix the following code the run the cell\n",
        "#\n",
        "second_number = 400;\n",
        "print(second_number)\n"
      ],
      "execution_count": 23,
      "outputs": [
        {
          "output_type": "stream",
          "text": [
            "400\n"
          ],
          "name": "stdout"
        }
      ]
    },
    {
      "cell_type": "markdown",
      "metadata": {
        "id": "UgmQhU5qeG8x",
        "colab_type": "text"
      },
      "source": [
        "## 1.4 Operators"
      ]
    },
    {
      "cell_type": "code",
      "metadata": {
        "id": "Rz2NNvZmYcP0",
        "colab_type": "code",
        "colab": {
          "base_uri": "https://localhost:8080/",
          "height": 84
        },
        "outputId": "11446086-9f7f-4a15-d4e3-7a6529bef06a"
      },
      "source": [
        "# Example 1\n",
        "# In this section, we are going to use the variable a and b to perform \n",
        "# some arithmetic operations. Variable values or the variables from the above cell are retained \n",
        "# and can be used with the values that they were assigned to. \n",
        "# We will learn more about this when we run the lines below.\n",
        "# Let's run this cell once then \n",
        "# Uncomment the lines below to see the effect for multiplication, division and substraction \n",
        "#\n",
        "\n",
        "print(a + b)\n",
        "\n",
        "print(a * b)\n",
        "\n",
        "print(a / b)\n",
        "\n",
        "print(a - b)"
      ],
      "execution_count": 25,
      "outputs": [
        {
          "output_type": "stream",
          "text": [
            "15\n",
            "50\n",
            "2.0\n",
            "5\n"
          ],
          "name": "stdout"
        }
      ]
    },
    {
      "cell_type": "code",
      "metadata": {
        "id": "w7UUv925YcP2",
        "colab_type": "code",
        "colab": {
          "base_uri": "https://localhost:8080/",
          "height": 34
        },
        "outputId": "6f9e57d2-251e-443c-d939-2cff5dd88dcc"
      },
      "source": [
        "# Example 2\n",
        "# What would happen if we assigned the value of a + b to a. \n",
        "# Then try to come up with the answer in your mind \n",
        "# before uncommenting the line below;\n",
        "# \n",
        "\n",
        "a = a + b\n",
        "\n",
        "print(a)"
      ],
      "execution_count": 26,
      "outputs": [
        {
          "output_type": "stream",
          "text": [
            "15\n"
          ],
          "name": "stdout"
        }
      ]
    },
    {
      "cell_type": "code",
      "metadata": {
        "id": "yVolQ1lCYcP5",
        "colab_type": "code",
        "colab": {
          "base_uri": "https://localhost:8080/",
          "height": 50
        },
        "outputId": "2eb0587c-feed-4338-8e11-623aee2dc2cd"
      },
      "source": [
        "# Example 3\n",
        "# Nice. Now we will introduce a rather unfamiliar operator that we normally use in python.\n",
        "# This operator is called the increment operator \n",
        "# \n",
        "\n",
        "a += b\n",
        "\n",
        "print(a)\n",
        "\n",
        "# Try using the decrement operator below. The increment operator is -=\n",
        "a -= b\n",
        "print(a)"
      ],
      "execution_count": 28,
      "outputs": [
        {
          "output_type": "stream",
          "text": [
            "25\n",
            "20\n"
          ],
          "name": "stdout"
        }
      ]
    },
    {
      "cell_type": "markdown",
      "metadata": {
        "id": "VoM4VEWeTxue",
        "colab_type": "text"
      },
      "source": [
        "As you have seen, python is perfectly suited to do basic calculations. Apart from addition, subtraction, multiplication and division, there is also support for more advanced operations such as:\n",
        "\n",
        "\n",
        "*   Exponentiation:  This operator raises the number to its left to the power of the number to its right. For example 4**2 will give 16.\n",
        "*   Modulo: %. This operator returns the remainder of the division of the number to the left by the number on its right. For example 18 % 7 equals 4."
      ]
    },
    {
      "cell_type": "code",
      "metadata": {
        "id": "s6fPLiHaTJs7",
        "colab_type": "code",
        "colab": {
          "base_uri": "https://localhost:8080/",
          "height": 50
        },
        "outputId": "1e14d04a-144f-41f9-8427-79ecdec844e3"
      },
      "source": [
        "# Example 4\n",
        "# Lets uncomment the lines below to Exponentiation and then \n",
        "#\n",
        "\n",
        "print(18 % 7)\n",
        "print(4 ** 2)"
      ],
      "execution_count": 29,
      "outputs": [
        {
          "output_type": "stream",
          "text": [
            "4\n",
            "16\n"
          ],
          "name": "stdout"
        }
      ]
    },
    {
      "cell_type": "markdown",
      "metadata": {
        "id": "8MEIfFSclWvn",
        "colab_type": "text"
      },
      "source": [
        "### <font color = 'green'> 1.4 Challenges </font>"
      ]
    },
    {
      "cell_type": "code",
      "metadata": {
        "id": "iILThnq6laDQ",
        "colab_type": "code",
        "colab": {
          "base_uri": "https://localhost:8080/",
          "height": 50
        },
        "outputId": "39cbbf03-3d14-451f-d1c9-9855206d1c0b"
      },
      "source": [
        "# Challenge 1\n",
        "# Three persons have three notes of Ksh.50, Ksh.100 and Ksh.500.\n",
        "# Create three variables; person 1, person 2 and person 3 then \n",
        "# Find out the average of their money and display it below.\n",
        "# \n",
        "person_1 = 50\n",
        "person_2 = 100\n",
        "person_3 = 500\n",
        "list = [person_1, person_2, person_3]\n",
        "c = sum(list)\n",
        "print(c)\n",
        "d = (c/3)\n",
        "print(d)"
      ],
      "execution_count": 44,
      "outputs": [
        {
          "output_type": "stream",
          "text": [
            "650\n",
            "216.66666666666666\n"
          ],
          "name": "stdout"
        }
      ]
    },
    {
      "cell_type": "code",
      "metadata": {
        "id": "P9fCjPn9la7V",
        "colab_type": "code",
        "colab": {
          "base_uri": "https://localhost:8080/",
          "height": 67
        },
        "outputId": "f4bdd14b-62c4-4a91-bfd3-4e533f9e48ba"
      },
      "source": [
        "# Challenge 2\n",
        "# An online shop sells designer jeans and t-shirts. \n",
        "# Each jeans costs Ksh. 4500 and t-shirt costs Ksh. 2500.\n",
        "# Calculate the cost below if you were to buy 3 pairs of jeans and 6 t-shirts\n",
        "# using variables and operators.\n",
        "#\n",
        "j = 4500 * 3\n",
        "print(j)\n",
        "t = 2500 * 6\n",
        "print(t)\n",
        "j + t"
      ],
      "execution_count": 36,
      "outputs": [
        {
          "output_type": "stream",
          "text": [
            "13500\n",
            "15000\n"
          ],
          "name": "stdout"
        },
        {
          "output_type": "execute_result",
          "data": {
            "text/plain": [
              "28500"
            ]
          },
          "metadata": {
            "tags": []
          },
          "execution_count": 36
        }
      ]
    },
    {
      "cell_type": "code",
      "metadata": {
        "id": "NIDidtkllawY",
        "colab_type": "code",
        "colab": {
          "base_uri": "https://localhost:8080/",
          "height": 67
        },
        "outputId": "94de3059-a7e8-4e25-94ae-16d177a38be1"
      },
      "source": [
        "# Challenge 3\n",
        "# We have Ksh 1000, which you invest with a 10% return each year. \n",
        "# After one year, it's 1000 × 1.1 = 1100 shillings, and after two years \n",
        "# it's 1000 × 1.1 × 1.1 = 1210. \n",
        "# Now, write code below to calculate how much money \n",
        "# you would end up with after 7 years.\n",
        "# How much is your Ksh. 1000 worth after 15 years?\n",
        "# ----------\n",
        "# Hint: Instead of calculating with the actual values, you can use variables instead. \n",
        "# The savings variable you've created in the previous exercise represents the Ksh 1000 you started with. \n",
        "# It's up to you to create a new variable to represent 1.1 and then redo the calculations!\n",
        "# ----------\n",
        "\n",
        "# We can recreate the savings variable that we will use below\n",
        "#\n",
        "savings = 1000\n",
        "\n",
        "# and create a growth_multiplier variable that is equal to 1.1.\n",
        "print(K)\n",
        "L = 1.1\n",
        "m = K * L**7\n",
        "n = K * L**15\n",
        "print(m)\n",
        "print(n)\n",
        "\n",
        "# Then create a result variable and equal it to the amount of money you saved after 7 years.\n",
        "\n",
        "\n",
        "# Then print out the value of result below\n"
      ],
      "execution_count": 40,
      "outputs": [
        {
          "output_type": "stream",
          "text": [
            "1000\n",
            "1948.7171000000012\n",
            "4177.248169415656\n"
          ],
          "name": "stdout"
        }
      ]
    },
    {
      "cell_type": "markdown",
      "metadata": {
        "id": "wCNLWKgJeLJn",
        "colab_type": "text"
      },
      "source": [
        "## 1.5 Input"
      ]
    },
    {
      "cell_type": "code",
      "metadata": {
        "id": "KFoVX3qxUVX5",
        "colab_type": "code",
        "colab": {
          "base_uri": "https://localhost:8080/",
          "height": 50
        },
        "outputId": "1df6754d-fea6-4a29-b8d9-ff27178dd8b7"
      },
      "source": [
        "# Example 1\n",
        "# The input() function allows for user input as shown\n",
        "# \n",
        "g = input(\"Enter a number: \") \n",
        "\n",
        "print(g)"
      ],
      "execution_count": 67,
      "outputs": [
        {
          "output_type": "stream",
          "text": [
            "Enter a number: 2\n",
            "2\n"
          ],
          "name": "stdout"
        }
      ]
    },
    {
      "cell_type": "code",
      "metadata": {
        "id": "1nq-JtqvXI3h",
        "colab_type": "code",
        "colab": {
          "base_uri": "https://localhost:8080/",
          "height": 67
        },
        "outputId": "ff4e11f4-2aef-4dde-8d60-0ba9248ea97f"
      },
      "source": [
        "# Example 2\n",
        "# Lets get the sum of two numbers from a user's input\n",
        "# \n",
        "x = input('Enter the first number: ')\n",
        "y = input('Enter the second number: ')\n",
        "\n",
        "print(x + y) "
      ],
      "execution_count": 68,
      "outputs": [
        {
          "output_type": "stream",
          "text": [
            "Enter the first number: 1\n",
            "Enter the second number: 3\n",
            "13\n"
          ],
          "name": "stdout"
        }
      ]
    },
    {
      "cell_type": "code",
      "metadata": {
        "id": "_2nBPR_o3bgY",
        "colab_type": "code",
        "colab": {
          "base_uri": "https://localhost:8080/",
          "height": 84
        },
        "outputId": "4c7588eb-f830-4960-b098-3bcfb3feb98e"
      },
      "source": [
        "# Example 3\n",
        "# Let's get the name and age of the user \n",
        "#\n",
        "\n",
        "# Prompting the user to tell us their name and displaying their name\n",
        "name = input(\"What's your name? \")\n",
        "print(\"Nice to meet you \" + name + \"!\")\n",
        "\n",
        "# Prompting the user to tell use their age \n",
        "age = input(\"Your age? \")\n",
        "\n",
        "# Displaying both their name and age\n",
        "# Hint: Try to remove str() and see what happens. We will learn more about datatype conversion later()\n",
        "# \n",
        "print(\"So, you are already \" + str(age) + \" years old, \" + name + \"!\")"
      ],
      "execution_count": 56,
      "outputs": [
        {
          "output_type": "stream",
          "text": [
            "What's your name? Nelly\n",
            "Nice to meet you Nelly!\n",
            "Your age? 20\n",
            "So, you are already 20 years old, Nelly!\n"
          ],
          "name": "stdout"
        }
      ]
    },
    {
      "cell_type": "markdown",
      "metadata": {
        "id": "eEu2bBRRlo1e",
        "colab_type": "text"
      },
      "source": [
        "### <font color = 'green'>  1.5 Challenges </font>"
      ]
    },
    {
      "cell_type": "code",
      "metadata": {
        "id": "RmNOhWeWlyLb",
        "colab_type": "code",
        "colab": {
          "base_uri": "https://localhost:8080/",
          "height": 84
        },
        "outputId": "4d98dc5c-0b48-4ef6-ea5b-143ba474a9d9"
      },
      "source": [
        "# Challenge 1\n",
        "# Many people around the world think about their height in feet and inches \n",
        "# even here in Africa where many countries use the metric system. \n",
        "# Write a program reads the height in metres then converts it to\n",
        "# feet and inches. The program should display the equivalent \n",
        "# height in feet and height.\n",
        "# NB: You can look up the necessary conversion factors on the web.\n",
        "#\n",
        "# Prompting the user to tell us their name and displaying their name\n",
        "name = input(\"What's your name?\")\n",
        "print(\"Nice to meet you \" + name + \"!\")\n",
        "\n",
        "# Prompting the user to give us their height in metres\n",
        "height = input(\"How tall are you 'in metres' \" + name + \"?\")\n",
        "\n",
        "# Converting Height from metres to feet\n",
        "result = float(height) * 3.28084\n",
        "\n",
        "# Displaying both name and height\n",
        "print(name + \" you are \" + str(result) + \"ft!\")"
      ],
      "execution_count": 78,
      "outputs": [
        {
          "output_type": "stream",
          "text": [
            "What's your name?Maya\n",
            "Nice to meet you Maya!\n",
            "How tall are you 'in metres' Maya?1.6\n",
            "Maya you are 5.249344000000001ft!\n"
          ],
          "name": "stdout"
        }
      ]
    },
    {
      "cell_type": "code",
      "metadata": {
        "id": "EdIZZ53Ml4Jx",
        "colab_type": "code",
        "colab": {
          "base_uri": "https://localhost:8080/",
          "height": 67
        },
        "outputId": "1fcd3be9-92ff-4c3a-b9d0-272fbf3abe57"
      },
      "source": [
        "# Challenge 2\n",
        "# Given a certain column of data that has radius, a data scientist would like\n",
        "# to compute the volume the respective cylinder and save the result to a new column.\n",
        "# Thus, write a program that reads the radius of cylinder, along with its height \n",
        "# from the user to calculate the volume in the console.\n",
        "#\n",
        "# Prompt user to give us the radius\n",
        "r = input(\"What's the radius?\")\n",
        "\n",
        "#Prompt the user to give us the height\n",
        "h = input(\"What's the height\")\n",
        "\n",
        "# Assigning value of pi\n",
        "pi = 3.14\n",
        "\n",
        "#Calculating volume\n",
        "print( int(r)**2 * float(pi) * int(h) )\n"
      ],
      "execution_count": 80,
      "outputs": [
        {
          "output_type": "stream",
          "text": [
            "What's the radius?4\n",
            "What's the height8\n",
            "401.92\n"
          ],
          "name": "stdout"
        }
      ]
    },
    {
      "cell_type": "code",
      "metadata": {
        "id": "EuzTUGQnl4tz",
        "colab_type": "code",
        "colab": {
          "base_uri": "https://localhost:8080/",
          "height": 50
        },
        "outputId": "b759f8d6-259e-4331-8255-99ac13df2e23"
      },
      "source": [
        "# Challenge 3\n",
        "# While paying for her parking fee of Ksh. 50 , Jane inserts a Note into \n",
        "# the paying machine and gets back her change. \n",
        "# Write a program that reads as input the note greater than Ksh. 200 \n",
        "# and returns change in notes of 100 and 50.\n",
        "# Use the knowledge of variables to printing, comments, operators \n",
        "# and input to print the no of denominations given\n",
        "# \n",
        "# Prompt user to insert parking card\n",
        "Card = input(\"Make payment of Ksh. 50\")\n",
        "print(\"Ksh. 500 paid \" + \"Pick your balance\")\n",
        "# Defining the denominations\n",
        "balance = ['Ksh. 100','Ksh. 100','Ksh. 100','Ksh. 100','Ksh. 50']\n"
      ],
      "execution_count": 100,
      "outputs": [
        {
          "output_type": "stream",
          "text": [
            "Make payment of Ksh. 50\n",
            "Ksh. 500 paid Pick your balance\n"
          ],
          "name": "stdout"
        }
      ]
    }
  ]
}